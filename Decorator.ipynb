{
 "cells": [
  {
   "cell_type": "code",
   "execution_count": 1,
   "metadata": {},
   "outputs": [],
   "source": [
    "from abc import ABC, abstractclassmethod"
   ]
  },
  {
   "cell_type": "code",
   "execution_count": 2,
   "metadata": {},
   "outputs": [],
   "source": [
    "# Класс Существо, здесь описываются методы, которые могут делать существа\n",
    "class Creature(ABC):\n",
    "    \n",
    "    @abstractclassmethod\n",
    "    def feed(self):\n",
    "        pass\n",
    "    \n",
    "    @abstractclassmethod\n",
    "    def move(self):\n",
    "        pass\n",
    "    \n",
    "    @abstractclassmethod\n",
    "    def make_noise(self):\n",
    "        pass"
   ]
  },
  {
   "cell_type": "code",
   "execution_count": 4,
   "metadata": {},
   "outputs": [],
   "source": [
    "# Класс Животное, здесь описывается, что возворащают методы Животных по умлочанию\n",
    "class Animal(Creature):\n",
    "    \n",
    "    def feed(self):\n",
    "        print(\"grass\")\n",
    "\n",
    "    def move(self):\n",
    "        print(\"walk\")\n",
    "\n",
    "    def make_noise(self):\n",
    "        print(\"wooo\")"
   ]
  },
  {
   "cell_type": "code",
   "execution_count": 6,
   "metadata": {},
   "outputs": [],
   "source": [
    "# Класс Абстрактный декоратор, от него будут наследоваться все животные\n",
    "class AbstractDecorator(Creature):\n",
    "    \n",
    "    def __init__(self, base):\n",
    "        self.base = base # Базовый объект\n",
    "    # Обязательные методы\n",
    "    def feed(self):\n",
    "        self.base.feed()\n",
    "\n",
    "    def move(self):\n",
    "        self.base.move()\n",
    "\n",
    "    def make_noise(self):\n",
    "        self.base.make_noise()"
   ]
  },
  {
   "cell_type": "code",
   "execution_count": 8,
   "metadata": {},
   "outputs": [],
   "source": [
    "# Класс Водоплавающее оно плавает и ничего не говорит\n",
    "class Swimming(AbstractDecorator):\n",
    "    \n",
    "    def move(self):\n",
    "        print('swim')\n",
    "        \n",
    "    def move(self):\n",
    "        print('...')"
   ]
  },
  {
   "cell_type": "code",
   "execution_count": 9,
   "metadata": {},
   "outputs": [],
   "source": [
    "# Класс Хищник есть других животных\n",
    "class Predator(AbstractDecorator):\n",
    "    def feed(self):\n",
    "        print('I eat other animals')"
   ]
  },
  {
   "cell_type": "code",
   "execution_count": 10,
   "metadata": {},
   "outputs": [],
   "source": [
    "# Класс Быстрое животное - двигается быстро\n",
    "class Fast(AbstractDecorator):\n",
    "    def move(self):\n",
    "        self.base.move()\n",
    "        print('Fast')"
   ]
  },
  {
   "cell_type": "code",
   "execution_count": 11,
   "metadata": {},
   "outputs": [
    {
     "name": "stdout",
     "output_type": "stream",
     "text": [
      "walk\n",
      "grass\n",
      "wooo\n"
     ]
    }
   ],
   "source": [
    "animal = Animal()\n",
    "animal.move()\n",
    "animal.feed()\n",
    "animal.make_noise()"
   ]
  },
  {
   "cell_type": "code",
   "execution_count": 14,
   "metadata": {},
   "outputs": [
    {
     "name": "stdout",
     "output_type": "stream",
     "text": [
      "...\n",
      "grass\n",
      "wooo\n"
     ]
    }
   ],
   "source": [
    "swimming = Swimming(animal)\n",
    "swimming.move()\n",
    "swimming.feed()\n",
    "swimming.make_noise()"
   ]
  },
  {
   "cell_type": "code",
   "execution_count": 15,
   "metadata": {},
   "outputs": [
    {
     "name": "stdout",
     "output_type": "stream",
     "text": [
      "...\n",
      "I eat other animals\n",
      "wooo\n"
     ]
    }
   ],
   "source": [
    "predator = Predator(swimming)\n",
    "predator.move()\n",
    "predator.feed()\n",
    "predator.make_noise()"
   ]
  },
  {
   "cell_type": "code",
   "execution_count": 16,
   "metadata": {},
   "outputs": [
    {
     "name": "stdout",
     "output_type": "stream",
     "text": [
      "...\n",
      "Fast\n",
      "I eat other animals\n",
      "wooo\n"
     ]
    }
   ],
   "source": [
    "fast_predator = Fast(predator)\n",
    "fast_predator.move()\n",
    "fast_predator.feed()\n",
    "fast_predator.make_noise()"
   ]
  },
  {
   "cell_type": "code",
   "execution_count": 18,
   "metadata": {},
   "outputs": [],
   "source": [
    "# Снятие декоратора\n",
    "fast_predator.base.base = fast_predator.base.base.base"
   ]
  },
  {
   "cell_type": "code",
   "execution_count": null,
   "metadata": {},
   "outputs": [],
   "source": [
    "fast_predator.move()\n",
    "fast_predator.feed()\n",
    "fast_predator.make_noise()"
   ]
  }
 ],
 "metadata": {
  "kernelspec": {
   "display_name": "Python 3.8.2 64-bit",
   "language": "python",
   "name": "python38264bit53c9776fb4fa445e878da65fe1639a19"
  },
  "language_info": {
   "codemirror_mode": {
    "name": "ipython",
    "version": 3
   },
   "file_extension": ".py",
   "mimetype": "text/x-python",
   "name": "python",
   "nbconvert_exporter": "python",
   "pygments_lexer": "ipython3",
   "version": "3.8.2"
  }
 },
 "nbformat": 4,
 "nbformat_minor": 4
}
